{
 "cells": [
  {
   "cell_type": "markdown",
   "id": "a080c351-888e-42c3-b2c8-6a9254e88a8f",
   "metadata": {},
   "source": [
    "Hello World! I'm Katie. Welcome to my github.\\\n",
    "I hope this notebook helps you get started. Feel free to fork it and work in your own repository.\n",
    "\n",
    "<a href=\"https://www.shecharms.io\" target=\"_blank\">SheCharms.io</a> may reroute to Facebook. I don't have a website yet! Follow me here or on facebook."
   ]
  },
  {
   "attachments": {},
   "cell_type": "markdown",
   "id": "ff949834-bec9-4ff0-b7e4-e92a84310e41",
   "metadata": {},
   "source": [
    "# Working with pandas dataframes\n",
    "## National Register of Historic Places\n",
    "Suggestions for what to do:\n",
    "* Value counts\n",
    "* Data cleaning\n",
    "  * There are duplicate listings, some are updates that you can find with Reference number and \n",
    "* Data manpulation\n",
    "  * Combine \"Level of Significance\" columns with True or False into a single variable\n",
    "    * When there are multiple levels, what would you do and why?\n",
    "  * What data can you add to these places? Can you combine other datasets?\n",
    "  * Can you visit sites and take photos to add to your notebook? \n",
    "* Histograms\n",
    "  * The combined levels of significance you created\n",
    "  * Category of Property\n",
    "* Use addresses to create a chloropleth map\n",
    "  * Hint: use import folium\n",
    "  * Hint: get latitude and longitude from address using from geopy.geocoders import Nominatim\n",
    "  * Questions you might want to answer with the data:\n",
    "    * How many listings are in each state?\n",
    "    * How many sites are near you?\n",
    "    * What reviews are available via APIs for sites?\n",
    "* Correlation matrix - what is the correlation between Census population and number of places?   "
   ]
  },
  {
   "cell_type": "code",
   "execution_count": null,
   "id": "9a906f7c-b5ca-43d7-9881-4ca6028f613e",
   "metadata": {},
   "outputs": [],
   "source": [
    "import pandas as pd\n",
    "import openpyxl #dependency needed for pd.read_excel"
   ]
  },
  {
   "cell_type": "code",
   "execution_count": null,
   "id": "8162be32-ea39-439b-8469-bd333f36fcc9",
   "metadata": {},
   "outputs": [],
   "source": [
    "# excel data download from National Park Service\n",
    "# https://www.nps.gov/subjects/nationalregister/database-research.htm\n",
    "national_historic_places_input = \"national-register-listed-20230801.xlsx\"\n",
    "\n",
    "# Are you adding other data? Add it here.\n"
   ]
  },
  {
   "cell_type": "code",
   "execution_count": null,
   "id": "63338e98-4fdc-46a1-acc3-598739dacb36",
   "metadata": {},
   "outputs": [],
   "source": [
    "# load the data into a pandas dataframe\n"
   ]
  },
  {
   "cell_type": "code",
   "execution_count": null,
   "id": "8f24a313-284f-4fe8-9de4-dd99a15678be",
   "metadata": {},
   "outputs": [],
   "source": [
    "# merge data if you are putting multiple things together"
   ]
  },
  {
   "cell_type": "code",
   "execution_count": null,
   "id": "3b7043e7-5325-4bb1-98c2-07912b6f1f9a",
   "metadata": {},
   "outputs": [],
   "source": [
    "# set pandas print options\n",
    "# try max rows = 300 - 'None' will show all\n",
    "# try max columns = 10 - 'None' will show all\n"
   ]
  },
  {
   "cell_type": "code",
   "execution_count": null,
   "id": "c350112d-f45a-4492-ad00-971f118cc9e8",
   "metadata": {},
   "outputs": [],
   "source": [
    "# print dataframe\n",
    "print(df)"
   ]
  },
  {
   "cell_type": "code",
   "execution_count": null,
   "id": "992af4b2-1e6c-46cf-ba40-0eebdbd33ddb",
   "metadata": {},
   "outputs": [],
   "source": [
    "# display dataframe keys - does it tell you how many?\n",
    "print(df.keys())"
   ]
  },
  {
   "cell_type": "code",
   "execution_count": null,
   "id": "d1c36ba4-ee99-4ef7-9ab9-61cac7ead934",
   "metadata": {},
   "outputs": [],
   "source": [
    "# print a count of dataframe keys len(df.keys())\n",
    "# look again at the dataframe print, you'll see that number there\n"
   ]
  },
  {
   "cell_type": "code",
   "execution_count": null,
   "id": "3c03e144-44c1-4d88-9478-b49e0f0f4b87",
   "metadata": {},
   "outputs": [],
   "source": [
    "# display dataframe row count\n",
    "# look again at the dataframe print, you'll see that number there\n"
   ]
  },
  {
   "cell_type": "code",
   "execution_count": null,
   "id": "7e19affc-4ba0-4efb-a042-da5b88e51ff8",
   "metadata": {},
   "outputs": [],
   "source": [
    "# What columns are you interested in? do value_counts\n"
   ]
  },
  {
   "cell_type": "code",
   "execution_count": null,
   "id": "8a5b6abb-0cc2-47a6-9679-965f30d45116",
   "metadata": {},
   "outputs": [],
   "source": [
    "# Data cleaning\n",
    "# What do you want to do with duplicates? Ignore?\n",
    "# Are there any missing data in your columns of interest?\n"
   ]
  },
  {
   "cell_type": "code",
   "execution_count": null,
   "id": "41eee330-792a-4f8a-b7fe-b94df6e0ef29",
   "metadata": {},
   "outputs": [],
   "source": [
    "# Data manipulation\n",
    "# What do you need to do?\n",
    "# If you're adding latitude and longitude for a map, do it here.\n"
   ]
  },
  {
   "cell_type": "code",
   "execution_count": null,
   "id": "9c3f9d70-d906-4194-b409-ef345aa8fed7",
   "metadata": {},
   "outputs": [],
   "source": [
    "# histograms - you'll need to import matplotlib at the top\n"
   ]
  },
  {
   "cell_type": "code",
   "execution_count": null,
   "id": "685222dd-ef3b-473d-8ac1-d4f6e1599884",
   "metadata": {},
   "outputs": [],
   "source": [
    "# chloropleth map - see the top \n"
   ]
  },
  {
   "cell_type": "markdown",
   "id": "cace5a7c-1873-4e23-8233-ed2e93cac619",
   "metadata": {},
   "source": [
    "# Another note on portfolios\n",
    "The following are pieces of information you'll want to add to your code and documentation. Some of these things are for potential employers, but they're good for future you. If you don't use a package for a while, you'll thank yourself later for being precise and thorough in your documentation.\n",
    "You'll want to add the following information as you go:\n",
    "* Make sure to write what you're doing and why.\n",
    "* What date did you access data? Where did it come from?\n",
    "  * Website address?\n",
    "  * API?\n",
    "* If there are alternative packages, why did you use the ones you chose?\n",
    "* If you informed any of your analyses by scholarly research articles, include a bibliography."
   ]
  },
  {
   "cell_type": "code",
   "execution_count": null,
   "id": "f57f63a1-89fd-4c7c-bbb9-195ea39e05c4",
   "metadata": {},
   "outputs": [],
   "source": []
  }
 ],
 "metadata": {
  "kernelspec": {
   "display_name": "Python 3 (ipykernel)",
   "language": "python",
   "name": "python3"
  },
  "language_info": {
   "codemirror_mode": {
    "name": "ipython",
    "version": 3
   },
   "file_extension": ".py",
   "mimetype": "text/x-python",
   "name": "python",
   "nbconvert_exporter": "python",
   "pygments_lexer": "ipython3",
   "version": "3.11.6"
  }
 },
 "nbformat": 4,
 "nbformat_minor": 5
}
