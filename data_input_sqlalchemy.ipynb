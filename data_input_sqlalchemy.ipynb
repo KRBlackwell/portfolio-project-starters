{
  "nbformat": 4,
  "nbformat_minor": 0,
  "metadata": {
    "colab": {
      "provenance": []
    },
    "kernelspec": {
      "name": "python3",
      "display_name": "Python 3"
    },
    "language_info": {
      "name": "python"
    }
  },
  "cells": [
    {
      "cell_type": "markdown",
      "source": [
        "# SQLAlchemy example\n",
        "pandas.to_sql removes primary keys in your table, and then the orm can't read your tables properly later. If you don't care about that, then to_sql works for you."
      ],
      "metadata": {
        "id": "1zLB8NaUAIOw"
      }
    },
    {
      "cell_type": "code",
      "execution_count": 3,
      "metadata": {
        "id": "RsFFa7jNAFAY"
      },
      "outputs": [],
      "source": [
        "import pandas as pd\n",
        "#using pd.to_sql removes any primary keys in the table, so we won't use it here\n",
        "from sqlalchemy import create_engine, Column, Integer, String, Boolean, text, inspect\n",
        "from sqlalchemy.orm import declarative_base, sessionmaker\n"
      ]
    },
    {
      "cell_type": "code",
      "source": [
        "#database set up\n",
        "database_file = 'places.db'\n",
        "engine = create_engine('sqlite:///'+database_file)\n",
        "Base = declarative_base() #this needs to be before you declare your class"
      ],
      "metadata": {
        "id": "JwDpn6VUBSN4"
      },
      "execution_count": 4,
      "outputs": []
    },
    {
      "cell_type": "code",
      "source": [
        "#input data\n",
        "data = {\n",
        "    'id': [1, 2, 3, 4],\n",
        "    'place_name': ['Parthenon', 'Jupiter', 'Lake Nemi', 'Athens'],\n",
        "    'place_address': ['123 Main St', '456 Oak Ave', '789 Elm Rd', '101 Pine Blvd'],\n",
        "    'protected': [True, False, True, False]\n",
        "}\n",
        "\n",
        "df = pd.DataFrame(data)"
      ],
      "metadata": {
        "id": "WjSkbr8hA_6t"
      },
      "execution_count": 5,
      "outputs": []
    },
    {
      "cell_type": "markdown",
      "source": [
        "## TimeStamp note\n",
        "sqlite doesn't support timestamp data types in the database. If you're using dates, save them as string. If you're wanting audit columns, use the following:\n",
        "```\n",
        "from datetime import datetime\n",
        "datetime.now().strftime('%Y-%m-%d %H:%M:%S')\n",
        "```"
      ],
      "metadata": {
        "id": "sradOj873Azs"
      }
    },
    {
      "cell_type": "code",
      "source": [
        "class Places(Base):\n",
        "    __tablename__ = 'places'\n",
        "    #to get the string lengths, you have to look at the data for the max lengths of the input data\n",
        "    id = Column(Integer, primary_key=True)\n",
        "    PlaceName = Column(String(9), unique=True, nullable=False)\n",
        "    PlaceAddress  = Column(String(13), unique=True, nullable=False)\n",
        "    Protected  = Column(Boolean,  nullable=True)\n",
        "#The following line creates table if it doesn't exist,\n",
        "#   and needs to be after you define your model (your table), so the metadata is properly saved\n",
        "Base.metadata.create_all(engine)\n",
        "\n",
        "#sqlalchemy orm uses sessions\n",
        "Session = sessionmaker(bind=engine)\n",
        "session = Session()"
      ],
      "metadata": {
        "id": "WnE-PwidBhlS"
      },
      "execution_count": 6,
      "outputs": []
    },
    {
      "cell_type": "markdown",
      "source": [],
      "metadata": {
        "id": "1kmmHpr_Drbj"
      }
    },
    {
      "cell_type": "code",
      "source": [
        "print(\"primary key is id :\", inspect(Places).primary_key[0].name)\n",
        "inspector = inspect(engine)\n",
        "existing_tables = inspector.get_table_names()\n",
        "print(\"this says places table exists :\", existing_tables)\n",
        "print(\"table is also in metadata :\", Base.metadata.tables.keys())\n",
        "#if Base.metadata.create_all(engine) isn't after your class for the data,\n",
        "#   inspect can see your table, but the metadata can't."
      ],
      "metadata": {
        "colab": {
          "base_uri": "https://localhost:8080/"
        },
        "id": "JVrsqH0gCHoi",
        "outputId": "e8750511-534e-49a3-db8b-79042db39ddb"
      },
      "execution_count": 7,
      "outputs": [
        {
          "output_type": "stream",
          "name": "stdout",
          "text": [
            "primary key is id : id\n",
            "this says places table exists : ['places']\n",
            "table is also in metadata : dict_keys(['places'])\n"
          ]
        }
      ]
    },
    {
      "cell_type": "code",
      "source": [
        "for idx, row in df.iterrows(): #itertuples is faster than iterrows\n",
        "    # Create a Place object for each row\n",
        "    print(row)\n",
        "    place_object = Places(\n",
        "        PlaceName=row['place_name'],\n",
        "        PlaceAddress=row['place_address'],\n",
        "        Protected=row['protected'],\n",
        "    )\n",
        "    session.add(place_object)\n",
        "session.commit()"
      ],
      "metadata": {
        "colab": {
          "base_uri": "https://localhost:8080/"
        },
        "id": "YjuniSWhDsDW",
        "outputId": "47d1670e-889f-497b-f832-cb47f644add7"
      },
      "execution_count": 8,
      "outputs": [
        {
          "output_type": "stream",
          "name": "stdout",
          "text": [
            "id                         1\n",
            "place_name         Parthenon\n",
            "place_address    123 Main St\n",
            "protected               True\n",
            "Name: 0, dtype: object\n",
            "id                         2\n",
            "place_name           Jupiter\n",
            "place_address    456 Oak Ave\n",
            "protected              False\n",
            "Name: 1, dtype: object\n",
            "id                        3\n",
            "place_name        Lake Nemi\n",
            "place_address    789 Elm Rd\n",
            "protected              True\n",
            "Name: 2, dtype: object\n",
            "id                           4\n",
            "place_name              Athens\n",
            "place_address    101 Pine Blvd\n",
            "protected                False\n",
            "Name: 3, dtype: object\n"
          ]
        }
      ]
    },
    {
      "cell_type": "code",
      "source": [
        "all_places = session.query(Places).all() #removing .all() will provide the same result, but use .all()\n",
        "print(\"all places:\")\n",
        "for p in all_places:\n",
        "    print(p.id, p.PlaceName, p.PlaceAddress, p.Protected)"
      ],
      "metadata": {
        "colab": {
          "base_uri": "https://localhost:8080/"
        },
        "id": "gRRo-h2RCpQg",
        "outputId": "643756d1-88d6-4dd9-da57-e3ab390e549b"
      },
      "execution_count": 9,
      "outputs": [
        {
          "output_type": "stream",
          "name": "stdout",
          "text": [
            "all places:\n",
            "1 Parthenon 123 Main St True\n",
            "2 Jupiter 456 Oak Ave False\n",
            "3 Lake Nemi 789 Elm Rd True\n",
            "4 Athens 101 Pine Blvd False\n"
          ]
        }
      ]
    },
    {
      "cell_type": "code",
      "source": [
        "all_places = session.execute(text(\"select * from places\"))\n",
        "print(\"all places:\")\n",
        "for p in all_places:\n",
        "    print(p[1]) #one element\n",
        "    print(p) #whole tuple"
      ],
      "metadata": {
        "colab": {
          "base_uri": "https://localhost:8080/"
        },
        "id": "25vdS8q_6839",
        "outputId": "86070ad7-a5d6-47e4-c34f-740f00a555e8"
      },
      "execution_count": 10,
      "outputs": [
        {
          "output_type": "stream",
          "name": "stdout",
          "text": [
            "all places:\n",
            "Parthenon\n",
            "(1, 'Parthenon', '123 Main St', 1)\n",
            "Jupiter\n",
            "(2, 'Jupiter', '456 Oak Ave', 0)\n",
            "Lake Nemi\n",
            "(3, 'Lake Nemi', '789 Elm Rd', 1)\n",
            "Athens\n",
            "(4, 'Athens', '101 Pine Blvd', 0)\n"
          ]
        }
      ]
    },
    {
      "cell_type": "code",
      "source": [
        "places = session.query(Places).filter_by(PlaceName='Parthenon').all()\n",
        "for p in places:\n",
        "  print(p.id, p.PlaceName, p.PlaceAddress, p.Protected)"
      ],
      "metadata": {
        "colab": {
          "base_uri": "https://localhost:8080/"
        },
        "id": "pXjboyoxCpT7",
        "outputId": "4b297292-d88b-4984-9713-111a327d79ce"
      },
      "execution_count": 11,
      "outputs": [
        {
          "output_type": "stream",
          "name": "stdout",
          "text": [
            "1 Parthenon 123 Main St True\n"
          ]
        }
      ]
    },
    {
      "cell_type": "code",
      "source": [
        "session.close()"
      ],
      "metadata": {
        "id": "ocIqKaAeDIbx"
      },
      "execution_count": 12,
      "outputs": []
    },
    {
      "cell_type": "code",
      "source": [
        "# #example of reading in an existing database with the orm\n",
        "# #disconnect and delete the runtime and then run the following\n",
        "# #google colab comment and uncomment shortcut - ctrl+/\n",
        "# #      so highlight all this and ctrl+/ then run\n",
        "# #uncomment and run the following - the database must exist for this to work\n",
        "# from sqlalchemy import create_engine, Column, Integer, String, Boolean, text, inspect\n",
        "# from sqlalchemy.orm import declarative_base, sessionmaker\n",
        "# from sqlalchemy.ext.automap import automap_base #table must have a primary key defined\n",
        "\n",
        "# #database set up\n",
        "# database_file = 'places.db'\n",
        "# engine = create_engine('sqlite:///'+database_file)\n",
        "# Base = automap_base()\n",
        "# Base.prepare(autoload_with=engine)\n",
        "# print(\"primary key is id :\", inspect(Places).primary_key[0].name)\n",
        "# inspector = inspect(engine)\n",
        "# existing_tables = inspector.get_table_names()\n",
        "# print(\"this says places table exists :\", existing_tables)\n",
        "# print(\"table is also in metadata :\", Base.metadata.tables.keys())\n",
        "# Session = sessionmaker(bind=engine)\n",
        "# session = Session()\n",
        "# print()\n",
        "# res = session.query(Places).all()\n",
        "# for r in res:\n",
        "#     print(r.id, r.PlaceAddress, r.PlaceName, r.Protected)"
      ],
      "metadata": {
        "colab": {
          "base_uri": "https://localhost:8080/"
        },
        "id": "7tjPhihUC7_B",
        "outputId": "1db89474-5b9d-4e9d-937b-1a62b75a8d53"
      },
      "execution_count": 27,
      "outputs": [
        {
          "output_type": "stream",
          "name": "stdout",
          "text": [
            "primary key is id : id\n",
            "this says places table exists : ['places']\n",
            "table is also in metadata : dict_keys(['places'])\n",
            "\n",
            "1 123 Main St Parthenon True\n",
            "2 456 Oak Ave Jupiter False\n",
            "3 789 Elm Rd Lake Nemi True\n",
            "4 101 Pine Blvd Athens False\n"
          ]
        }
      ]
    }
  ]
}