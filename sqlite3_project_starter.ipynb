{
  "nbformat": 4,
  "nbformat_minor": 0,
  "metadata": {
    "colab": {
      "provenance": []
    },
    "kernelspec": {
      "name": "python3",
      "display_name": "Python 3"
    },
    "language_info": {
      "name": "python"
    }
  },
  "cells": [
    {
      "cell_type": "markdown",
      "source": [
        "# Python project starter with sqlite3\n",
        "## Concepts to study:\n",
        "* Database connection\n",
        "* sqlite3 data types allowed\n",
        " * How do they differ from other common database engines?\n",
        "* Pandas dataframes\n",
        "* Data insert with to_sql\n",
        "* Fetch rows from database\n",
        "* Database triggers\n",
        "\n",
        "## Ideas to extend this project:\n",
        "* Save the database historical_places.db to your google drive so you can use it later\n",
        "* Come up with a definition of protected\n",
        " * UNESCO heritage site? Redacted street address?   \n",
        "* What if we change place name to unique and not null?\n",
        "* What other triggers might we want? Do we need to audit any specific data items that might change?\n",
        "* What if we add a username to the database trigger? $USER on *nix or %username% on windows\n",
        "* Insert more rows of data to the existing database\n",
        "* Find a real dataset, like the historical places from the National Park Service, and modify the below to use it\n",
        " * What dependency does pandas.read_excel need?\n",
        "* Get a free cloud account and do this in the cloud\n"
      ],
      "metadata": {
        "id": "SdRKDL0KVyI7"
      }
    },
    {
      "cell_type": "code",
      "execution_count": 1,
      "metadata": {
        "id": "Ttc0FHLbOYgo",
        "colab": {
          "base_uri": "https://localhost:8080/"
        },
        "outputId": "7fd0dbaa-aa3d-410e-ed4c-a98179c1fdbc"
      },
      "outputs": [
        {
          "output_type": "stream",
          "name": "stdout",
          "text": [
            "sample_data\n"
          ]
        }
      ],
      "source": [
        "import pandas as pd\n",
        "import sqlite3\n",
        "!ls"
      ]
    },
    {
      "cell_type": "code",
      "source": [
        "#variables\n",
        "database_file = 'historical_places.db'\n",
        "state_DC = \"DISTRICT OF COLUMBIA\""
      ],
      "metadata": {
        "id": "VOiBBhIhWKru"
      },
      "execution_count": 3,
      "outputs": []
    },
    {
      "cell_type": "code",
      "source": [
        "#input data\n",
        "data = {\n",
        "    'id': [1, 2, 3, 4],\n",
        "    'place_name': ['Parthenon', 'Jupiter', 'Lake Nemi', 'Athens'],\n",
        "    'street & number': ['123 Main St', '456 Oak Ave', '789 Elm Rd', '101 Pine Blvd'],\n",
        "    'protected': [True, False, True, False]\n",
        "}\n",
        "\n",
        "df = pd.DataFrame(data)\n",
        "print(df)"
      ],
      "metadata": {
        "colab": {
          "base_uri": "https://localhost:8080/"
        },
        "id": "ay4mBTP8W3Ut",
        "outputId": "b672ee20-038c-4468-e819-25654bd11771"
      },
      "execution_count": 4,
      "outputs": [
        {
          "output_type": "stream",
          "name": "stdout",
          "text": [
            "   id place_name street & number  protected\n",
            "0   1  Parthenon     123 Main St       True\n",
            "1   2    Jupiter     456 Oak Ave      False\n",
            "2   3  Lake Nemi      789 Elm Rd       True\n",
            "3   4     Athens   101 Pine Blvd      False\n"
          ]
        }
      ]
    },
    {
      "cell_type": "code",
      "source": [
        "# create table sql code\n",
        "create_historical_places_table = \"\"\" create table if not exists historical_places (\n",
        "        id integer primary key not null,\n",
        "        PlaceName text not null,\n",
        "        PlaceAddress text,\n",
        "        Protected text,\n",
        "        CreateDate default ( datetime('now') ),\n",
        "        UpdateDate default ( datetime('now') )\n",
        "        );\"\"\""
      ],
      "metadata": {
        "id": "mzfNV_hGWVNc"
      },
      "execution_count": 5,
      "outputs": []
    },
    {
      "cell_type": "code",
      "source": [
        "#test insert\n",
        "insert_row = \"\"\"insert into historical_places\n",
        "                          (PlaceName, PlaceAddress, Protected)\n",
        "                           values ('Delphi','345 Pythia Pl','True')\"\"\""
      ],
      "metadata": {
        "id": "SO-ZXWfbk0Vj"
      },
      "execution_count": 6,
      "outputs": []
    },
    {
      "cell_type": "code",
      "source": [
        "# an interesting check you should know about\n",
        "check_tables = \"select name from sqlite_master where type='table'\""
      ],
      "metadata": {
        "id": "FVVxRKWGlc1g"
      },
      "execution_count": 7,
      "outputs": []
    },
    {
      "cell_type": "code",
      "source": [
        "# create trigger sql code\n",
        "# this trigger puts an datetime stamp when the row was updated.\n",
        "create_trigger_audit_update_date = \"\"\" create trigger if not exists audit_update_date after update on historical_places\n",
        "begin\n",
        "  update historical_places set UpdateDate = datetime('now');\n",
        "end;\"\"\""
      ],
      "metadata": {
        "id": "SDCIJXioYmpb"
      },
      "execution_count": 8,
      "outputs": []
    },
    {
      "cell_type": "code",
      "source": [
        "# rename variables to match sql column names\n",
        "df_to_sql_names = {\n",
        "        # id is same\n",
        "        'place_name' : 'PlaceName' ,\n",
        "        'City ' : 'City' ,\n",
        "        'street & number' : 'PlaceAddress' ,\n",
        "        'protected' : 'Protected' ,\n",
        "        }"
      ],
      "metadata": {
        "id": "ECm51qOuWoKT"
      },
      "execution_count": 9,
      "outputs": []
    },
    {
      "cell_type": "code",
      "source": [
        "# database connection - 'with' handles some exceptions but doesn't close it for you\n",
        "with sqlite3.connect(database_file) as conn:\n",
        "    cursor = conn.cursor()\n",
        "    # historical_places table:\n",
        "    #    create table\n",
        "    cursor.execute(create_historical_places_table)\n",
        "    conn.commit()\n",
        "#    res = cursor.execute(\"\"\"select 'a' as now, * from historical_places\"\"\")\n",
        "#    for a in res.fetchall():\n",
        "#      print(\"row=\", a)\n",
        "    #    trigger\n",
        "    cursor.execute(create_trigger_audit_update_date)\n",
        "    conn.commit()"
      ],
      "metadata": {
        "id": "4msNcYnpfHsp"
      },
      "execution_count": 10,
      "outputs": []
    },
    {
      "cell_type": "code",
      "source": [
        "#ls lists what's in the current working directory\n",
        "!ls\n",
        "#do you see historical_places.db? good!"
      ],
      "metadata": {
        "colab": {
          "base_uri": "https://localhost:8080/"
        },
        "id": "eRJ0J_TmjCpQ",
        "outputId": "dce68087-1e01-439c-cfc5-71c9d2548d47"
      },
      "execution_count": 11,
      "outputs": [
        {
          "output_type": "stream",
          "name": "stdout",
          "text": [
            "historical_places.db  sample_data\n"
          ]
        }
      ]
    },
    {
      "cell_type": "code",
      "source": [
        "#another way to check is this:\n",
        "r = cursor.execute(check_tables)\n",
        "print(r.fetchall())"
      ],
      "metadata": {
        "colab": {
          "base_uri": "https://localhost:8080/"
        },
        "id": "nAxeTfRUltKZ",
        "outputId": "a9a24d42-392c-40be-ede6-95e35011c62c"
      },
      "execution_count": 12,
      "outputs": [
        {
          "output_type": "stream",
          "name": "stdout",
          "text": [
            "[('historical_places',)]\n"
          ]
        }
      ]
    },
    {
      "cell_type": "code",
      "source": [
        "# rename columns in dataframe\n",
        "new_df = df.rename(columns=df_to_sql_names)\n",
        "print(new_df)\n",
        "# to_sql insert to database\n",
        "new_df.to_sql('historical_places', con= conn, if_exists='append', index=False) #specifying index=False results in an exception"
      ],
      "metadata": {
        "colab": {
          "base_uri": "https://localhost:8080/"
        },
        "id": "1AKfyv87WsOn",
        "outputId": "b2c4b036-f031-46ab-f0a6-5990b33ee1a3"
      },
      "execution_count": 13,
      "outputs": [
        {
          "output_type": "stream",
          "name": "stdout",
          "text": [
            "   id  PlaceName   PlaceAddress  Protected\n",
            "0   1  Parthenon    123 Main St       True\n",
            "1   2    Jupiter    456 Oak Ave      False\n",
            "2   3  Lake Nemi     789 Elm Rd       True\n",
            "3   4     Athens  101 Pine Blvd      False\n"
          ]
        },
        {
          "output_type": "execute_result",
          "data": {
            "text/plain": [
              "4"
            ]
          },
          "metadata": {},
          "execution_count": 13
        }
      ]
    },
    {
      "cell_type": "code",
      "source": [
        "# try using print() to print more than one output in a notebook\n",
        "res = cursor.execute(\"select * from historical_places\")\n",
        "for r in res.fetchall():\n",
        "    print(r)\n",
        "cursor.execute(insert_row)\n",
        "conn.commit()"
      ],
      "metadata": {
        "colab": {
          "base_uri": "https://localhost:8080/"
        },
        "id": "BlGkL9aHWxh6",
        "outputId": "2a720051-eae3-4af0-9207-def253b24253"
      },
      "execution_count": 14,
      "outputs": [
        {
          "output_type": "stream",
          "name": "stdout",
          "text": [
            "(1, 'Parthenon', '123 Main St', '1', '2023-11-29 23:08:41', '2023-11-29 23:08:41')\n",
            "(2, 'Jupiter', '456 Oak Ave', '0', '2023-11-29 23:08:41', '2023-11-29 23:08:41')\n",
            "(3, 'Lake Nemi', '789 Elm Rd', '1', '2023-11-29 23:08:41', '2023-11-29 23:08:41')\n",
            "(4, 'Athens', '101 Pine Blvd', '0', '2023-11-29 23:08:41', '2023-11-29 23:08:41')\n"
          ]
        }
      ]
    },
    {
      "cell_type": "code",
      "source": [
        "res = cursor.execute(\"select * from historical_places\")\n",
        "for r in res.fetchall():\n",
        "    print(r)\n",
        "\n",
        "#make sure you close database connections\n",
        "conn.close()"
      ],
      "metadata": {
        "colab": {
          "base_uri": "https://localhost:8080/"
        },
        "id": "paUOdiViU7xu",
        "outputId": "60bd71eb-47be-4131-9192-9d3660663ee6"
      },
      "execution_count": 15,
      "outputs": [
        {
          "output_type": "stream",
          "name": "stdout",
          "text": [
            "(1, 'Parthenon', '123 Main St', '1', '2023-11-29 23:08:41', '2023-11-29 23:08:41')\n",
            "(2, 'Jupiter', '456 Oak Ave', '0', '2023-11-29 23:08:41', '2023-11-29 23:08:41')\n",
            "(3, 'Lake Nemi', '789 Elm Rd', '1', '2023-11-29 23:08:41', '2023-11-29 23:08:41')\n",
            "(4, 'Athens', '101 Pine Blvd', '0', '2023-11-29 23:08:41', '2023-11-29 23:08:41')\n",
            "(5, 'Delphi', '345 Pythia Pl', 'True', '2023-11-29 23:09:47', '2023-11-29 23:09:47')\n"
          ]
        }
      ]
    }
  ]
}