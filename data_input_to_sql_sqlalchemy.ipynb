{
  "nbformat": 4,
  "nbformat_minor": 0,
  "metadata": {
    "colab": {
      "provenance": []
    },
    "kernelspec": {
      "name": "python3",
      "display_name": "Python 3"
    },
    "language_info": {
      "name": "python"
    }
  },
  "cells": [
    {
      "cell_type": "markdown",
      "source": [
        "# SQLAlchemy example\n"
      ],
      "metadata": {
        "id": "1zLB8NaUAIOw"
      }
    },
    {
      "cell_type": "code",
      "execution_count": 8,
      "metadata": {
        "id": "RsFFa7jNAFAY"
      },
      "outputs": [],
      "source": [
        "import pandas as pd\n",
        "#sqlalchemy is a dependency for pd.to_sql\n",
        "from sqlalchemy import create_engine, Column, Integer, String, Boolean, inspect\n",
        "from sqlalchemy.orm import declarative_base, sessionmaker"
      ]
    },
    {
      "cell_type": "code",
      "source": [
        "#database set up\n",
        "database_file = 'places.db'\n",
        "engine = create_engine('sqlite:///'+database_file)\n",
        "Base = declarative_base()"
      ],
      "metadata": {
        "id": "JwDpn6VUBSN4"
      },
      "execution_count": 3,
      "outputs": []
    },
    {
      "cell_type": "code",
      "source": [
        "#input data\n",
        "data = {\n",
        "    'id': [1, 2, 3, 4],\n",
        "    'place_name': ['Parthenon', 'Jupiter', 'Lake Nemi', 'Athens'],\n",
        "    'place_address': ['123 Main St', '456 Oak Ave', '789 Elm Rd', '101 Pine Blvd'],\n",
        "    'protected': [True, False, True, False]\n",
        "}\n",
        "\n",
        "df = pd.DataFrame(data)"
      ],
      "metadata": {
        "id": "WjSkbr8hA_6t"
      },
      "execution_count": 4,
      "outputs": []
    },
    {
      "cell_type": "code",
      "source": [
        "class Places(Base):\n",
        "    __tablename__ = 'places'\n",
        "    #to get the string lengths, you have to look at the data for the max lengths of the input data\n",
        "    id = Column(Integer, primary_key=True)\n",
        "    place_name = Column(String(9), unique=True, nullable=False)\n",
        "    place_address  = Column(String(13), unique=True, nullable=False)\n",
        "    protected  = Column(Boolean,  nullable=True)\n",
        "#The following line creates table if it doesn't exist,\n",
        "#   and needs to be after you define your model (your table), so the metadata is properly saved\n",
        "Base.metadata.create_all(engine)\n",
        "\n",
        "#sqlalchemy orm uses sessions\n",
        "Session = sessionmaker(bind=engine)\n",
        "session = Session()"
      ],
      "metadata": {
        "id": "WnE-PwidBhlS"
      },
      "execution_count": 5,
      "outputs": []
    },
    {
      "cell_type": "markdown",
      "source": [],
      "metadata": {
        "id": "1kmmHpr_Drbj"
      }
    },
    {
      "cell_type": "markdown",
      "source": [
        "## Note about pandas.to_sql and sqlite3\n",
        "The documentation tells you that pandas.to_sql will not maintain primary key integrity. sqlite3 doesn't allow you to use alter table to add a primary key constraint either. If you use to_sql and sqlite3 together, this is an issue. You can still read and update the table, but you won't have integrity constraints that you set up in the orm model."
      ],
      "metadata": {
        "id": "xzSEHCaF97eU"
      }
    },
    {
      "cell_type": "code",
      "source": [
        "#this adds the data in with one line\n",
        "df.to_sql('places', con=engine, if_exists='append', index=False)"
      ],
      "metadata": {
        "colab": {
          "base_uri": "https://localhost:8080/"
        },
        "id": "JVrsqH0gCHoi",
        "outputId": "91593cb6-bbc9-458a-f44e-8c7347150d67"
      },
      "execution_count": 6,
      "outputs": [
        {
          "output_type": "execute_result",
          "data": {
            "text/plain": [
              "4"
            ]
          },
          "metadata": {},
          "execution_count": 6
        }
      ]
    },
    {
      "cell_type": "code",
      "source": [
        "print(\"primary key is id :\", inspect(Places).primary_key[0].name)\n",
        "inspector = inspect(engine)\n",
        "existing_tables = inspector.get_table_names()\n",
        "print(\"this says places table exists :\", existing_tables)\n",
        "print(\"table is also in metadata :\", Base.metadata.tables.keys())\n",
        "#if Base.metadata.create_all(engine) isn't after your class for the data,\n",
        "#   inspect can see your table, but the metadata can't."
      ],
      "metadata": {
        "colab": {
          "base_uri": "https://localhost:8080/"
        },
        "id": "YjuniSWhDsDW",
        "outputId": "c0521c81-a456-4625-9652-e0c3b809b380"
      },
      "execution_count": 9,
      "outputs": [
        {
          "output_type": "stream",
          "name": "stdout",
          "text": [
            "primary key is id : id\n",
            "this says places table exists : ['places']\n",
            "table is also in metadata : dict_keys(['places'])\n"
          ]
        }
      ]
    },
    {
      "cell_type": "code",
      "source": [
        "all_places = session.query(Places).all()\n",
        "print()\n",
        "print(\"all places:\")\n",
        "for p in all_places:\n",
        "    print(p.id, p.place_name, p.place_address, p.protected)"
      ],
      "metadata": {
        "colab": {
          "base_uri": "https://localhost:8080/"
        },
        "id": "gRRo-h2RCpQg",
        "outputId": "614444cb-db7f-4b50-e71d-eb339185ff68"
      },
      "execution_count": 10,
      "outputs": [
        {
          "output_type": "stream",
          "name": "stdout",
          "text": [
            "\n",
            "all places:\n",
            "1 Parthenon 123 Main St True\n",
            "2 Jupiter 456 Oak Ave False\n",
            "3 Lake Nemi 789 Elm Rd True\n",
            "4 Athens 101 Pine Blvd False\n"
          ]
        }
      ]
    },
    {
      "cell_type": "code",
      "source": [
        "places = session.query(Places).filter_by(place_name='Parthenon').first()\n",
        "print(places.id, places.place_name, places.place_address, places.protected)"
      ],
      "metadata": {
        "colab": {
          "base_uri": "https://localhost:8080/"
        },
        "id": "pXjboyoxCpT7",
        "outputId": "a481e710-7cd0-458e-df32-04f5f73a539f"
      },
      "execution_count": 11,
      "outputs": [
        {
          "output_type": "stream",
          "name": "stdout",
          "text": [
            "1 Parthenon 123 Main St True\n"
          ]
        }
      ]
    },
    {
      "cell_type": "code",
      "source": [
        "session.close()"
      ],
      "metadata": {
        "id": "ocIqKaAeDIbx"
      },
      "execution_count": 12,
      "outputs": []
    }
  ]
}
