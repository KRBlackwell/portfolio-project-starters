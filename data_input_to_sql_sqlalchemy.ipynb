{
  "nbformat": 4,
  "nbformat_minor": 0,
  "metadata": {
    "colab": {
      "provenance": []
    },
    "kernelspec": {
      "name": "python3",
      "display_name": "Python 3"
    },
    "language_info": {
      "name": "python"
    }
  },
  "cells": [
    {
      "cell_type": "markdown",
      "source": [
        "# SQLAlchemy example\n"
      ],
      "metadata": {
        "id": "1zLB8NaUAIOw"
      }
    },
    {
      "cell_type": "code",
      "execution_count": 15,
      "metadata": {
        "id": "RsFFa7jNAFAY"
      },
      "outputs": [],
      "source": [
        "import pandas as pd\n",
        "#sqlalchemy is a dependency for pd.to_sql\n",
        "from sqlalchemy import create_engine, Column, Integer, String, Boolean, DateTime\n",
        "from sqlalchemy.orm import declarative_base\n",
        "from sqlalchemy.orm import sessionmaker"
      ]
    },
    {
      "cell_type": "code",
      "source": [
        "#database set up\n",
        "database_file = 'places.db'\n",
        "engine = create_engine('sqlite:///'+database_file)\n",
        "Base = declarative_base()\n",
        "Base.metadata.create_all(engine) #creates table if it doesn't exist\n",
        "Session = sessionmaker(bind=engine)\n",
        "session = Session()"
      ],
      "metadata": {
        "id": "JwDpn6VUBSN4"
      },
      "execution_count": 2,
      "outputs": []
    },
    {
      "cell_type": "code",
      "source": [
        "#input data\n",
        "data = {\n",
        "    'id': [1, 2, 3, 4],\n",
        "    'place_name': ['Parthenon', 'Jupiter', 'Lake Nemi', 'Athens'],\n",
        "    'place_address': ['123 Main St', '456 Oak Ave', '789 Elm Rd', '101 Pine Blvd'],\n",
        "    'protected': [True, False, True, False]\n",
        "}\n",
        "\n",
        "df = pd.DataFrame(data)"
      ],
      "metadata": {
        "id": "WjSkbr8hA_6t"
      },
      "execution_count": 3,
      "outputs": []
    },
    {
      "cell_type": "code",
      "source": [
        "class Places(Base):\n",
        "    __tablename__ = 'places'\n",
        "    #to get the string lengths, you have to look at the data for the max lengths of the input data\n",
        "    id = Column(Integer, primary_key=True)\n",
        "    place_name = Column(String(9), unique=True, nullable=False)\n",
        "    place_address  = Column(String(13), unique=True, nullable=False)\n",
        "    protected  = Column(Boolean,  nullable=True)\n"
      ],
      "metadata": {
        "id": "WnE-PwidBhlS"
      },
      "execution_count": 4,
      "outputs": []
    },
    {
      "cell_type": "markdown",
      "source": [],
      "metadata": {
        "id": "1kmmHpr_Drbj"
      }
    },
    {
      "cell_type": "code",
      "source": [
        "df.to_sql('places', con=engine, if_exists='append', index=False)"
      ],
      "metadata": {
        "colab": {
          "base_uri": "https://localhost:8080/"
        },
        "id": "JVrsqH0gCHoi",
        "outputId": "47b6ea98-2650-442b-f51f-01019d60fb92"
      },
      "execution_count": 18,
      "outputs": [
        {
          "output_type": "execute_result",
          "data": {
            "text/plain": [
              "4"
            ]
          },
          "metadata": {},
          "execution_count": 18
        }
      ]
    },
    {
      "cell_type": "code",
      "source": [
        "Base.metadata.tables.keys()"
      ],
      "metadata": {
        "colab": {
          "base_uri": "https://localhost:8080/"
        },
        "id": "YjuniSWhDsDW",
        "outputId": "8bf1a639-4629-458b-c24b-6357a62696f5"
      },
      "execution_count": 19,
      "outputs": [
        {
          "output_type": "execute_result",
          "data": {
            "text/plain": [
              "dict_keys(['places'])"
            ]
          },
          "metadata": {},
          "execution_count": 19
        }
      ]
    },
    {
      "cell_type": "code",
      "source": [
        "all_places = session.query(Places).all()\n",
        "print()\n",
        "print(\"all users:\")\n",
        "for p in all_places:\n",
        "    print(p.id, p.place_name, p.place_address, p.protected)"
      ],
      "metadata": {
        "colab": {
          "base_uri": "https://localhost:8080/"
        },
        "id": "gRRo-h2RCpQg",
        "outputId": "5178f842-a804-47dc-ba0d-5eb46a221beb"
      },
      "execution_count": 21,
      "outputs": [
        {
          "output_type": "stream",
          "name": "stdout",
          "text": [
            "\n",
            "all users:\n",
            "1 Parthenon 123 Main St True\n",
            "2 Jupiter 456 Oak Ave False\n",
            "3 Lake Nemi 789 Elm Rd True\n",
            "4 Athens 101 Pine Blvd False\n"
          ]
        }
      ]
    },
    {
      "cell_type": "code",
      "source": [
        "places = session.query(Places).filter_by(place_name='Parthenon').first()\n",
        "print(places.id, places.place_name, places.place_address, places.protected)"
      ],
      "metadata": {
        "colab": {
          "base_uri": "https://localhost:8080/"
        },
        "id": "pXjboyoxCpT7",
        "outputId": "64469dc9-3fd5-42e8-e090-e5199bb08ef9"
      },
      "execution_count": 23,
      "outputs": [
        {
          "output_type": "stream",
          "name": "stdout",
          "text": [
            "1 Parthenon 123 Main St True\n"
          ]
        }
      ]
    },
    {
      "cell_type": "code",
      "source": [
        "session.close()"
      ],
      "metadata": {
        "id": "ocIqKaAeDIbx"
      },
      "execution_count": 24,
      "outputs": []
    }
  ]
}