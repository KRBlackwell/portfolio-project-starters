{
  "nbformat": 4,
  "nbformat_minor": 0,
  "metadata": {
    "colab": {
      "provenance": []
    },
    "kernelspec": {
      "name": "python3",
      "display_name": "Python 3"
    },
    "language_info": {
      "name": "python"
    }
  },
  "cells": [
    {
      "cell_type": "markdown",
      "source": [
        "# Reading PDFs\n",
        "Let's import a pdf from online.\\\n",
        " \\\n",
        " [Who Moonlights and Why? Evidence from the SIPP](https://oa.mg/work/10.1111/0019-8676.00198)\\\n",
        " [This link using the Wayback Machine will get the pdf](https://web.archive.org/web/20000816011337/http://www.census.gov:80/dusd/MAB/wp224.pdf)"
      ],
      "metadata": {
        "id": "o4MEQS5pBXo1"
      }
    },
    {
      "cell_type": "code",
      "execution_count": null,
      "metadata": {
        "colab": {
          "base_uri": "https://localhost:8080/"
        },
        "id": "qSBCQGGhBT6h",
        "outputId": "3e8c80fd-791d-458b-ca41-c829c444231e"
      },
      "outputs": [
        {
          "output_type": "stream",
          "name": "stdout",
          "text": [
            "Collecting PyPDF2\n",
            "  Downloading pypdf2-3.0.1-py3-none-any.whl (232 kB)\n",
            "\u001b[2K     \u001b[90m━━━━━━━━━━━━━━━━━━━━━━━━━━━━━━━━━━━━━━━━\u001b[0m \u001b[32m232.6/232.6 kB\u001b[0m \u001b[31m2.0 MB/s\u001b[0m eta \u001b[36m0:00:00\u001b[0m\n",
            "\u001b[?25hInstalling collected packages: PyPDF2\n",
            "Successfully installed PyPDF2-3.0.1\n",
            "Collecting gtts\n",
            "  Downloading gTTS-2.4.0-py3-none-any.whl (29 kB)\n",
            "Requirement already satisfied: requests<3,>=2.27 in /usr/local/lib/python3.10/dist-packages (from gtts) (2.31.0)\n",
            "Requirement already satisfied: click<8.2,>=7.1 in /usr/local/lib/python3.10/dist-packages (from gtts) (8.1.7)\n",
            "Requirement already satisfied: charset-normalizer<4,>=2 in /usr/local/lib/python3.10/dist-packages (from requests<3,>=2.27->gtts) (3.3.2)\n",
            "Requirement already satisfied: idna<4,>=2.5 in /usr/local/lib/python3.10/dist-packages (from requests<3,>=2.27->gtts) (3.6)\n",
            "Requirement already satisfied: urllib3<3,>=1.21.1 in /usr/local/lib/python3.10/dist-packages (from requests<3,>=2.27->gtts) (2.0.7)\n",
            "Requirement already satisfied: certifi>=2017.4.17 in /usr/local/lib/python3.10/dist-packages (from requests<3,>=2.27->gtts) (2023.11.17)\n",
            "Installing collected packages: gtts\n",
            "Successfully installed gtts-2.4.0\n"
          ]
        }
      ],
      "source": [
        "!pip install PyPDF2\n",
        "!pip install gtts\n",
        "import PyPDF2\n",
        "from urllib.request import urlretrieve\n",
        "from gtts import gTTS\n",
        "import requests\n",
        "from IPython.display import Audio, display"
      ]
    },
    {
      "cell_type": "code",
      "source": [
        "fileurl = \"https://web.archive.org/web/20000816011337/http://www.census.gov:80/dusd/MAB/wp224.pdf\"\n",
        "filepdf = requests.get(fileurl)\n",
        "mypdf = \"mypdf.pdf\"\n",
        "with open(mypdf, 'wb') as pdf:\n",
        "    pdf.write(filepdf.content) #empty file\n",
        "print(pdf.closed)\n",
        "print(len(mypdf))\n",
        "reader = PyPDF2.PdfReader(\"/content/\"+mypdf)"
      ],
      "metadata": {
        "id": "8eZMCo2gixsd",
        "colab": {
          "base_uri": "https://localhost:8080/"
        },
        "outputId": "f3e9368c-0fb0-420e-f4c4-1bb5e3e73e5e"
      },
      "execution_count": null,
      "outputs": [
        {
          "output_type": "stream",
          "name": "stdout",
          "text": [
            "True\n",
            "9\n"
          ]
        }
      ]
    },
    {
      "cell_type": "markdown",
      "source": [
        "You can extract text from the PDF. The next cell will just get the first page and print the whole thing. I split it by any period (so print by sentences, but also urls will get caught up in that)."
      ],
      "metadata": {
        "id": "_SCj1A6gGAr2"
      }
    },
    {
      "cell_type": "code",
      "source": [
        "firstpage = reader.pages[0]\n",
        "splitit = firstpage.extract_text().split(\".\")\n",
        "firstpage_text = firstpage.extract_text()\n",
        "\n",
        "for sentence in splitit:\n",
        "    print(sentence)"
      ],
      "metadata": {
        "colab": {
          "base_uri": "https://localhost:8080/"
        },
        "id": "1NKiTFqCGB9G",
        "outputId": "5f8955bc-2728-40ef-a54f-fda3e81c9f12"
      },
      "execution_count": null,
      "outputs": [
        {
          "output_type": "stream",
          "name": "stdout",
          "text": [
            "THE SURVEY OF INCOME AND\n",
            "PROGRAM PARTICIPATION\n",
            "WHO MOONLIGHTS AND WHY?\n",
            "EVIDENCE FROM THE SIPP\n",
            "No\n",
            " 224\n",
            "J\n",
            " Kimmel\n",
            "K\n",
            " S\n",
            " Conway\n",
            "U\n",
            " S\n",
            " Department of Commerce BUREAU OF THE CENSUS\n"
          ]
        }
      ]
    },
    {
      "cell_type": "markdown",
      "source": [
        "Now that you know how to get text, let's add in something else. We'll save each page as an mp3. The mp3s will be saved in a list to play next."
      ],
      "metadata": {
        "id": "FvdO051mk1-H"
      }
    },
    {
      "cell_type": "markdown",
      "source": [
        "You can play the mp3s in colab."
      ],
      "metadata": {
        "id": "liWFFrBjk0Nz"
      }
    },
    {
      "cell_type": "markdown",
      "source": [
        "Let's put all the pages text into a single file. We can ask AI to summarize the text."
      ],
      "metadata": {
        "id": "DrYGOcihlT-d"
      }
    },
    {
      "cell_type": "code",
      "source": [
        "#this cell takes about 5 seconds to run\n",
        "pages = []\n",
        "pages_content = []\n",
        "#the pdf text is all in the first 20 pages so we don't have to remove\n",
        "#    the tables or math equations for this exercise\n",
        "for num in range(0,20):\n",
        "  page = reader.pages[num]\n",
        "  pages.append(page)\n",
        "  page_content = page.extract_text()\n",
        "  #adding periods here adds pauses between pages\n",
        "  pages_content.append(page_content + \" . . . . . \") #the periods add a slight pause\n",
        "  print(\"\\n\",page_content[:50]) #show a little of the page to show what it's getting and shows progress"
      ],
      "metadata": {
        "id": "-JOfFDxbH24s"
      },
      "execution_count": null,
      "outputs": []
    },
    {
      "cell_type": "code",
      "source": [
        "all_pages = \"\"\n",
        "for p in pages_content:\n",
        "    all_pages+=p\n",
        "all_pages"
      ],
      "metadata": {
        "id": "sThV_u3ElTrt"
      },
      "execution_count": null,
      "outputs": []
    },
    {
      "cell_type": "markdown",
      "source": [
        "I want pdfs in their own mp3."
      ],
      "metadata": {
        "id": "HkXB-NR4JhHJ"
      }
    },
    {
      "cell_type": "code",
      "source": [
        "#for this pdf, it takes about 5mins to run this cell\n",
        "mp3obj = gTTS(text=all_pages, lang='en', slow=False)\n",
        "        #slow=False speeds up audio, but it's still pretty slow\n",
        "mp3fil = mypdf + \".mp3\"\n",
        "mp3obj.save(mp3fil)"
      ],
      "metadata": {
        "id": "UhtdpVHRJRFa"
      },
      "execution_count": null,
      "outputs": []
    },
    {
      "cell_type": "markdown",
      "source": [
        "An mp3 can be played in a cell like the following with the IPython library:"
      ],
      "metadata": {
        "id": "uVG_-YsfJtiL"
      }
    },
    {
      "cell_type": "code",
      "source": [
        "display(Audio(mp3fil, autoplay=False))\n",
        "#1h 16min 56s mp3 file length\n",
        "#note if you click the 3 dots on the right you can adjust the playback speed to either normal, 1.5 or 2x\n",
        "#the embedded audio is not run for github because it's not necessary and takes up space"
      ],
      "metadata": {
        "id": "NE3dsc6_f9ds"
      },
      "execution_count": null,
      "outputs": []
    }
  ]
}